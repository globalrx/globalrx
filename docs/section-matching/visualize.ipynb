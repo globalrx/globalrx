{
 "cells": [
  {
   "cell_type": "code",
   "execution_count": null,
   "id": "56390c58",
   "metadata": {
    "scrolled": true
   },
   "outputs": [],
   "source": [
    "pip install nomic"
   ]
  },
  {
   "cell_type": "code",
   "execution_count": 1,
   "id": "864e8ca1",
   "metadata": {},
   "outputs": [],
   "source": [
    "from nomic import atlas\n",
    "import numpy as np\n",
    "import json\n",
    "from data.models import ProductSection\n",
    "import os\n",
    "from tqdm import tqdm\n",
    "import nomic\n",
    "nomic.login('cISRutntzMcGixIPpXDCBYrstcwpUbwBs0AX43BY4mUHt')"
   ]
  },
  {
   "cell_type": "code",
   "execution_count": 2,
   "id": "5e0a71d4",
   "metadata": {},
   "outputs": [],
   "source": [
    "os.environ[\"DJANGO_ALLOW_ASYNC_UNSAFE\"] = \"true\""
   ]
  },
  {
   "cell_type": "code",
   "execution_count": 3,
   "id": "95b0626d",
   "metadata": {},
   "outputs": [
    {
     "name": "stderr",
     "output_type": "stream",
     "text": [
      " 57%|██████████████████████████████████████████████████████████████████████████████████████████████████████████████████████████████████████████▏                                                                                                      | 48000/83725 [54:24<40:29, 14.70it/s]\n"
     ]
    }
   ],
   "source": [
    "TGA_labels = ProductSection.objects.filter(label_product__drug_label__source=\"TGA\").filter(bert_vector__isnull=False)\n",
    "embeddings = []\n",
    "metadata = []\n",
    "cap = 48000\n",
    "for i, ps in enumerate(tqdm(TGA_labels)):\n",
    "    # cast to Numpy array\n",
    "    if i >= cap:\n",
    "        break\n",
    "    embeddings.append(np.array(json.loads(ps.bert_vector)))\n",
    "    doc = dict(ps.as_search_document())\n",
    "    doc.pop(\"text_embedding\")\n",
    "    metadata.append(doc)\n",
    "arr = np.array(embeddings)"
   ]
  },
  {
   "cell_type": "code",
   "execution_count": 4,
   "id": "545f1124",
   "metadata": {},
   "outputs": [
    {
     "name": "stderr",
     "output_type": "stream",
     "text": [
      "2023-04-18 16:34:10.708 | INFO     | nomic.project:__init__:871 - Found existing project `SearchRx` in organization `cole_crawford`. Clearing it of data by request.\n",
      "2023-04-18 16:34:12.547 | INFO     | nomic.project:_create_project:965 - Creating project `SearchRx` in organization `cole_crawford`\n",
      "2023-04-18 16:34:13.780 | INFO     | nomic.atlas:map_embeddings:100 - Uploading embeddings to Atlas.\n",
      "48it [00:36,  1.33it/s]                                                                                                                                                                                                                                                                     \n",
      "2023-04-18 16:34:54.369 | INFO     | nomic.project:_add_data:1577 - Upload succeeded.\n",
      "2023-04-18 16:34:54.387 | INFO     | nomic.atlas:map_embeddings:119 - Embedding upload succeeded.\n",
      "2023-04-18 16:34:55.477 | INFO     | nomic.project:create_index:1282 - Created map `SearchRx` in project `SearchRx`: https://atlas.nomic.ai/map/6de23c6a-d381-491a-b27d-d1306b97a45d/940e5afb-5540-4006-a9e5-a4b7f5430a2a\n",
      "2023-04-18 16:34:55.479 | INFO     | nomic.atlas:map_embeddings:132 - SearchRx: https://atlas.nomic.ai/map/6de23c6a-d381-491a-b27d-d1306b97a45d/940e5afb-5540-4006-a9e5-a4b7f5430a2a\n"
     ]
    }
   ],
   "source": [
    "project = atlas.map_embeddings(\n",
    "    embeddings=arr,\n",
    "    data=metadata,\n",
    "    id_field=\"id\",\n",
    "    colorable_fields=[\"drug_label_source\", \"section_name\"],\n",
    "    topic_label_field=\"section_text\",\n",
    "    name=\"SearchRx\",\n",
    "    description=\"Embeddings of drug label sections\",\n",
    "    reset_project_if_exists=True\n",
    ")"
   ]
  },
  {
   "cell_type": "code",
   "execution_count": null,
   "id": "381cc3f0",
   "metadata": {},
   "outputs": [],
   "source": []
  }
 ],
 "metadata": {
  "kernelspec": {
   "display_name": "Django Shell-Plus",
   "language": "python",
   "name": "django_extensions"
  },
  "language_info": {
   "codemirror_mode": {
    "name": "ipython",
    "version": 3
   },
   "file_extension": ".py",
   "mimetype": "text/x-python",
   "name": "python",
   "nbconvert_exporter": "python",
   "pygments_lexer": "ipython3",
   "version": "3.10.0"
  }
 },
 "nbformat": 4,
 "nbformat_minor": 5
}
