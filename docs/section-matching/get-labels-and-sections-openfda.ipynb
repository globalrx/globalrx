{
 "cells": [
  {
   "cell_type": "code",
   "execution_count": 2,
   "id": "ebbdd638",
   "metadata": {},
   "outputs": [],
   "source": [
    "# various imports and setup\n",
    "\n",
    "import os\n",
    "import json\n",
    "import requests\n",
    "from zipfile import ZipFile\n",
    "\n",
    "from tqdm import tqdm"
   ]
  },
  {
   "cell_type": "code",
   "execution_count": 4,
   "id": "3f26c5ee",
   "metadata": {},
   "outputs": [
    {
     "name": "stderr",
     "output_type": "stream",
     "text": [
      "/Users/colecrawford/.pyenv/versions/3.10.0/lib/python3.10/site-packages/urllib3/connectionpool.py:1043: InsecureRequestWarning: Unverified HTTPS request is being made to host 'api.fda.gov'. Adding certificate verification is strongly advised. See: https://urllib3.readthedocs.io/en/1.26.x/advanced-usage.html#ssl-warnings\n",
      "  warnings.warn(\n"
     ]
    },
    {
     "name": "stdout",
     "output_type": "stream",
     "text": [
      "{\n",
      "    \"disclaimer\": \"Do not rely on openFDA to make decisions regarding medical care. While we make every effort to ensure that data is accurate, you should assume all results are unvalidated. We may limit or otherwise restrict your access to the API in line with our Terms of Service.\",\n",
      "    \"last_updated\": \"2023-03-25\",\n",
      "    \"license\": \"https://open.fda.gov/license/\",\n",
      "    \"terms\": \"https://open.fda.gov/terms/\"\n",
      "}\n",
      "Overall categories: ['drug', 'device', 'food', 'other', 'tobacco', 'animalandveterinary']\n",
      "Drug data categories: ['event', 'label', 'enforcement', 'ndc', 'drugsfda']\n",
      "\n",
      "Found 209614 labels, last updated 2023-03-25\n",
      "\n"
     ]
    },
    {
     "name": "stderr",
     "output_type": "stream",
     "text": [
      "/Users/colecrawford/.pyenv/versions/3.10.0/lib/python3.10/site-packages/urllib3/connectionpool.py:1043: InsecureRequestWarning: Unverified HTTPS request is being made to host 'download.open.fda.gov'. Adding certificate verification is strongly advised. See: https://urllib3.readthedocs.io/en/1.26.x/advanced-usage.html#ssl-warnings\n",
      "  warnings.warn(\n"
     ]
    },
    {
     "name": "stdout",
     "output_type": "stream",
     "text": [
      "Downloaded file https://download.open.fda.gov/drug/label/drug-label-0001-of-0011.json.zip\n"
     ]
    },
    {
     "name": "stderr",
     "output_type": "stream",
     "text": [
      "/Users/colecrawford/.pyenv/versions/3.10.0/lib/python3.10/site-packages/urllib3/connectionpool.py:1043: InsecureRequestWarning: Unverified HTTPS request is being made to host 'download.open.fda.gov'. Adding certificate verification is strongly advised. See: https://urllib3.readthedocs.io/en/1.26.x/advanced-usage.html#ssl-warnings\n",
      "  warnings.warn(\n"
     ]
    },
    {
     "name": "stdout",
     "output_type": "stream",
     "text": [
      "Downloaded file https://download.open.fda.gov/drug/label/drug-label-0002-of-0011.json.zip\n"
     ]
    },
    {
     "name": "stderr",
     "output_type": "stream",
     "text": [
      "/Users/colecrawford/.pyenv/versions/3.10.0/lib/python3.10/site-packages/urllib3/connectionpool.py:1043: InsecureRequestWarning: Unverified HTTPS request is being made to host 'download.open.fda.gov'. Adding certificate verification is strongly advised. See: https://urllib3.readthedocs.io/en/1.26.x/advanced-usage.html#ssl-warnings\n",
      "  warnings.warn(\n"
     ]
    },
    {
     "name": "stdout",
     "output_type": "stream",
     "text": [
      "Downloaded file https://download.open.fda.gov/drug/label/drug-label-0003-of-0011.json.zip\n"
     ]
    },
    {
     "name": "stderr",
     "output_type": "stream",
     "text": [
      "/Users/colecrawford/.pyenv/versions/3.10.0/lib/python3.10/site-packages/urllib3/connectionpool.py:1043: InsecureRequestWarning: Unverified HTTPS request is being made to host 'download.open.fda.gov'. Adding certificate verification is strongly advised. See: https://urllib3.readthedocs.io/en/1.26.x/advanced-usage.html#ssl-warnings\n",
      "  warnings.warn(\n"
     ]
    },
    {
     "name": "stdout",
     "output_type": "stream",
     "text": [
      "Downloaded file https://download.open.fda.gov/drug/label/drug-label-0004-of-0011.json.zip\n"
     ]
    },
    {
     "name": "stderr",
     "output_type": "stream",
     "text": [
      "/Users/colecrawford/.pyenv/versions/3.10.0/lib/python3.10/site-packages/urllib3/connectionpool.py:1043: InsecureRequestWarning: Unverified HTTPS request is being made to host 'download.open.fda.gov'. Adding certificate verification is strongly advised. See: https://urllib3.readthedocs.io/en/1.26.x/advanced-usage.html#ssl-warnings\n",
      "  warnings.warn(\n"
     ]
    },
    {
     "name": "stdout",
     "output_type": "stream",
     "text": [
      "Downloaded file https://download.open.fda.gov/drug/label/drug-label-0005-of-0011.json.zip\n"
     ]
    },
    {
     "name": "stderr",
     "output_type": "stream",
     "text": [
      "/Users/colecrawford/.pyenv/versions/3.10.0/lib/python3.10/site-packages/urllib3/connectionpool.py:1043: InsecureRequestWarning: Unverified HTTPS request is being made to host 'download.open.fda.gov'. Adding certificate verification is strongly advised. See: https://urllib3.readthedocs.io/en/1.26.x/advanced-usage.html#ssl-warnings\n",
      "  warnings.warn(\n"
     ]
    },
    {
     "name": "stdout",
     "output_type": "stream",
     "text": [
      "Downloaded file https://download.open.fda.gov/drug/label/drug-label-0006-of-0011.json.zip\n"
     ]
    },
    {
     "name": "stderr",
     "output_type": "stream",
     "text": [
      "/Users/colecrawford/.pyenv/versions/3.10.0/lib/python3.10/site-packages/urllib3/connectionpool.py:1043: InsecureRequestWarning: Unverified HTTPS request is being made to host 'download.open.fda.gov'. Adding certificate verification is strongly advised. See: https://urllib3.readthedocs.io/en/1.26.x/advanced-usage.html#ssl-warnings\n",
      "  warnings.warn(\n"
     ]
    },
    {
     "name": "stdout",
     "output_type": "stream",
     "text": [
      "Downloaded file https://download.open.fda.gov/drug/label/drug-label-0007-of-0011.json.zip\n"
     ]
    },
    {
     "name": "stderr",
     "output_type": "stream",
     "text": [
      "/Users/colecrawford/.pyenv/versions/3.10.0/lib/python3.10/site-packages/urllib3/connectionpool.py:1043: InsecureRequestWarning: Unverified HTTPS request is being made to host 'download.open.fda.gov'. Adding certificate verification is strongly advised. See: https://urllib3.readthedocs.io/en/1.26.x/advanced-usage.html#ssl-warnings\n",
      "  warnings.warn(\n"
     ]
    },
    {
     "name": "stdout",
     "output_type": "stream",
     "text": [
      "Downloaded file https://download.open.fda.gov/drug/label/drug-label-0008-of-0011.json.zip\n"
     ]
    },
    {
     "name": "stderr",
     "output_type": "stream",
     "text": [
      "/Users/colecrawford/.pyenv/versions/3.10.0/lib/python3.10/site-packages/urllib3/connectionpool.py:1043: InsecureRequestWarning: Unverified HTTPS request is being made to host 'download.open.fda.gov'. Adding certificate verification is strongly advised. See: https://urllib3.readthedocs.io/en/1.26.x/advanced-usage.html#ssl-warnings\n",
      "  warnings.warn(\n"
     ]
    },
    {
     "name": "stdout",
     "output_type": "stream",
     "text": [
      "Downloaded file https://download.open.fda.gov/drug/label/drug-label-0009-of-0011.json.zip\n"
     ]
    },
    {
     "name": "stderr",
     "output_type": "stream",
     "text": [
      "/Users/colecrawford/.pyenv/versions/3.10.0/lib/python3.10/site-packages/urllib3/connectionpool.py:1043: InsecureRequestWarning: Unverified HTTPS request is being made to host 'download.open.fda.gov'. Adding certificate verification is strongly advised. See: https://urllib3.readthedocs.io/en/1.26.x/advanced-usage.html#ssl-warnings\n",
      "  warnings.warn(\n"
     ]
    },
    {
     "name": "stdout",
     "output_type": "stream",
     "text": [
      "Downloaded file https://download.open.fda.gov/drug/label/drug-label-0010-of-0011.json.zip\n"
     ]
    },
    {
     "name": "stderr",
     "output_type": "stream",
     "text": [
      "/Users/colecrawford/.pyenv/versions/3.10.0/lib/python3.10/site-packages/urllib3/connectionpool.py:1043: InsecureRequestWarning: Unverified HTTPS request is being made to host 'download.open.fda.gov'. Adding certificate verification is strongly advised. See: https://urllib3.readthedocs.io/en/1.26.x/advanced-usage.html#ssl-warnings\n",
      "  warnings.warn(\n"
     ]
    },
    {
     "name": "stdout",
     "output_type": "stream",
     "text": [
      "Downloaded file https://download.open.fda.gov/drug/label/drug-label-0011-of-0011.json.zip\n",
      "Extracted file drug-label-0004-of-0011.json\n",
      "Extracted file drug-label-0010-of-0011.json\n",
      "Extracted file drug-label-0005-of-0011.json\n",
      "Extracted file drug-label-0011-of-0011.json\n",
      "Extracted file drug-label-0001-of-0011.json\n",
      "Extracted file drug-label-0006-of-0011.json\n",
      "Extracted file drug-label-0002-of-0011.json\n",
      "Extracted file drug-label-0009-of-0011.json\n",
      "Extracted file drug-label-0007-of-0011.json\n",
      "Extracted file drug-label-0003-of-0011.json\n",
      "Extracted file drug-label-0008-of-0011.json\n"
     ]
    },
    {
     "name": "stderr",
     "output_type": "stream",
     "text": [
      "100%|████████████████████████████████████████████████████████████████████████████████████████████████████████████████████████████████████████████████████████████████████████████████████████████████████████████████████████████████████████████████████████| 11/11 [02:03<00:00, 11.19s/it]\n",
      "100%|████████████████████████████████████████████████████████████████████████████████████████████████████████████████████████████████████████████████████████████████████████████████████████████████████████████████████████████████████████████████| 32103/32103 [00:13<00:00, 2321.62it/s]\n"
     ]
    },
    {
     "name": "stdout",
     "output_type": "stream",
     "text": [
      "Encountered problems reading 0 records\n"
     ]
    }
   ],
   "source": [
    "data_dir = 'data/openfda/'\n",
    "zip_dir = data_dir + 'zip/'\n",
    "json_dir = data_dir + 'json/'\n",
    "\n",
    "json_print = lambda j: print(json.dumps(j, indent=4, sort_keys=True))\n",
    "RUN_DIAGNOSTICS = False\n",
    "\n",
    "#%% download raw data (11 zip files)\n",
    "\n",
    "dl_json_url = 'https://api.fda.gov/download.json'\n",
    "dl_json = json.loads(requests.get(dl_json_url, verify=False).text)\n",
    "json_print(dl_json['meta'])\n",
    "print(f\"Overall categories: {[k for k in dl_json['results'].keys()]}\")\n",
    "\n",
    "drugs_json = dl_json['results']['drug']\n",
    "print(f\"Drug data categories: {[k for k in drugs_json.keys()]}\")\n",
    "\n",
    "labels_json = dl_json['results']['drug']['label']\n",
    "print(f\"\\nFound {labels_json['total_records']} labels, last updated {labels_json['export_date']}\\n\")\n",
    "\n",
    "urls = [x['file'] for x in labels_json['partitions']]\n",
    "\n",
    "if not os.path.exists(zip_dir):\n",
    "    os.mkdir(zip_dir)\n",
    "\n",
    "for url in urls:\n",
    "    filename = url.split('/')[-1]\n",
    "    if os.path.exists(zip_dir+filename):\n",
    "        print(f\"Already downloaded file {url}\")\n",
    "    else:\n",
    "        r = requests.get(url, verify=False)      \n",
    "        with open(zip_dir+filename, 'wb') as f:\n",
    "            f.write(r.content)\n",
    "            print(f'Downloaded file {url}')\n",
    "                  \n",
    "\n",
    "#%% unzip those files (result is several jsons)\n",
    "\n",
    "if not os.path.exists(json_dir):\n",
    "      os.mkdir(json_dir)\n",
    "\n",
    "for file in os.listdir(zip_dir):\n",
    "    with ZipFile(zip_dir + file, 'r') as zf:  \n",
    "        for zobj in zf.infolist():\n",
    "            if os.path.exists(json_dir + zobj.filename):\n",
    "                print(f'Already extracted file {zobj.filename}')\n",
    "            else:\n",
    "                zf.extract(zobj, json_dir)\n",
    "                print(f'Extracted file {zobj.filename}')\n",
    "\n",
    "\n",
    "#%% read all extracted jsons into master list\n",
    "\n",
    "results = []\n",
    "    \n",
    "for file in tqdm(os.listdir(json_dir)):\n",
    "    with open(json_dir + file, encoding='utf-8') as f:\n",
    "        j = json.load(f)\n",
    "        results += j['results']\n",
    "\n",
    "\n",
    "#%% loop through master list, sort results into rx/otc/other\n",
    "\n",
    "# note: many \"uncategorized\" drugs are simply missing their metadata,\n",
    "#  which is usually stored in the \"openfda\" field (a dict)\n",
    "def check_type(res):\n",
    "    if 'product_type' not in res['openfda'].keys():\n",
    "        return 'uncategorized_drug'\n",
    "    pt = res['openfda']['product_type']\n",
    "    if type(pt)==float:\n",
    "        return 'uncategorized_drug'\n",
    "    if type(pt)==list:\n",
    "        assert(len(pt)==1)\n",
    "        return(pt[0].lower().replace(' ','_'))\n",
    "    else:\n",
    "        print('Problem determining type: ', pt)\n",
    "        \n",
    "results_by_type = {}\n",
    "for res in results:\n",
    "    product_type = check_type(res)\n",
    "    if product_type not in results_by_type.keys():\n",
    "        results_by_type[product_type] = [res]\n",
    "    else:\n",
    "        results_by_type[product_type].append(res)\n",
    "\n",
    "        \n",
    "#%% we only care about the prescription drugs, save to disk\n",
    "\n",
    "drugs = results_by_type['human_prescription_drug']\n",
    "\n",
    "errors = []\n",
    "records = {}\n",
    "# restructure to match ema format and save to disk\n",
    "for drug in tqdm(drugs):\n",
    "    try:\n",
    "        info = {}\n",
    "        info['metadata'] = drug['openfda']\n",
    "        \n",
    "        label_text = {}\n",
    "        for key,val in drug.items():\n",
    "            # for my purposes I didn't need tables (mostly html formatting)\n",
    "            if (type(val)==list) and ('table' not in key):\n",
    "                label_text[key] = list(set(val)) # de-duplicate contents\n",
    "        info['Label Text'] = label_text\n",
    "        \n",
    "        records[drug['id']] = info\n",
    "\n",
    "    except:\n",
    "        errors += [drug]\n",
    "\n",
    "print(f'Encountered problems reading {len(errors)} records')\n",
    "with open('data/output/human-rx-openfda-drug.json', 'w') as f:\n",
    "    json.dump(records, f, indent=4)\n",
    "\n",
    "# for manual inspection, save the first few separately (full file too big)\n",
    "if RUN_DIAGNOSTICS:\n",
    "    with open('data/output/human-rx-drug-openfda-excerpt.json', 'w') as f:\n",
    "        json.dump({k:records[k] for k in list(records.keys())[:100]}, f, indent=4)\n",
    "\n"
   ]
  },
  {
   "cell_type": "code",
   "execution_count": 3,
   "id": "039dc1b1-2b2d-4a76-9977-fd7b76d33fa5",
   "metadata": {},
   "outputs": [],
   "source": [
    "with open(\"data/output/human-rx-openfda-drug.json\") as f:\n",
    "    data_fda = json.load(f)"
   ]
  },
  {
   "cell_type": "code",
   "execution_count": 6,
   "id": "d75faee0-f11b-4c18-98ee-95b91ed0207b",
   "metadata": {},
   "outputs": [
    {
     "data": {
      "text/plain": [
       "{'application_number': ['ANDA210175'],\n",
       " 'brand_name': ['OXYMORPHONE HYDROCHLORIDE'],\n",
       " 'generic_name': ['OXYMORPHONE HYDROCHLORIDE'],\n",
       " 'manufacturer_name': ['XLCare Pharmaceuticals, Inc.'],\n",
       " 'product_ndc': ['72865-130', '72865-131'],\n",
       " 'product_type': ['HUMAN PRESCRIPTION DRUG'],\n",
       " 'route': ['ORAL'],\n",
       " 'substance_name': ['OXYMORPHONE HYDROCHLORIDE'],\n",
       " 'rxcui': ['977939', '977942'],\n",
       " 'spl_id': ['4fdf3b7e-f6ff-4d78-a928-c9d47c5bc9d9'],\n",
       " 'spl_set_id': ['1a1d5061-b62a-49fa-a5b2-4970f51416ae'],\n",
       " 'package_ndc': ['72865-130-01', '72865-131-01'],\n",
       " 'is_original_packager': [True],\n",
       " 'upc': ['0372865131015', '0372865130018'],\n",
       " 'unii': ['5Y2EI94NBC']}"
      ]
     },
     "execution_count": 6,
     "metadata": {},
     "output_type": "execute_result"
    }
   ],
   "source": [
    "data_fda['4fdf3b7e-f6ff-4d78-a928-c9d47c5bc9d9']['metadata']"
   ]
  },
  {
   "cell_type": "code",
   "execution_count": 11,
   "id": "934f6578-64d5-4da3-848f-db5fac76d832",
   "metadata": {},
   "outputs": [
    {
     "data": {
      "text/plain": [
       "dict_keys(['metadata', 'Label Text'])"
      ]
     },
     "execution_count": 11,
     "metadata": {},
     "output_type": "execute_result"
    }
   ],
   "source": [
    "data_fda['4fdf3b7e-f6ff-4d78-a928-c9d47c5bc9d9'].keys()"
   ]
  },
  {
   "cell_type": "code",
   "execution_count": null,
   "id": "3ef36c1a-e247-4153-bb02-f19d03881c7f",
   "metadata": {},
   "outputs": [],
   "source": []
  }
 ],
 "metadata": {
  "kernelspec": {
   "display_name": "caleb-data-scripts-venv",
   "language": "python",
   "name": "caleb-data-scripts-venv"
  },
  "language_info": {
   "codemirror_mode": {
    "name": "ipython",
    "version": 3
   },
   "file_extension": ".py",
   "mimetype": "text/x-python",
   "name": "python",
   "nbconvert_exporter": "python",
   "pygments_lexer": "ipython3",
   "version": "3.10.0"
  }
 },
 "nbformat": 4,
 "nbformat_minor": 5
}
